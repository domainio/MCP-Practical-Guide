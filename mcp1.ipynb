{
 "cells": [
  {
   "cell_type": "markdown",
   "metadata": {},
   "source": [
    "# OpenAI client setup"
   ]
  },
  {
   "cell_type": "code",
   "execution_count": 7,
   "metadata": {},
   "outputs": [
    {
     "name": "stdout",
     "output_type": "stream",
     "text": [
      "Requirement already satisfied: python-dotenv in /Users/ez/.pyenv/versions/3.11.10/lib/python3.11/site-packages (1.0.0)\n",
      "Requirement already satisfied: openai in /Users/ez/.pyenv/versions/3.11.10/lib/python3.11/site-packages (1.37.2)\n",
      "Requirement already satisfied: anyio<5,>=3.5.0 in /Users/ez/.pyenv/versions/3.11.10/lib/python3.11/site-packages (from openai) (4.3.0)\n",
      "Requirement already satisfied: distro<2,>=1.7.0 in /Users/ez/.pyenv/versions/3.11.10/lib/python3.11/site-packages (from openai) (1.9.0)\n",
      "Requirement already satisfied: httpx<1,>=0.23.0 in /Users/ez/.pyenv/versions/3.11.10/lib/python3.11/site-packages (from openai) (0.27.0)\n",
      "Requirement already satisfied: pydantic<3,>=1.9.0 in /Users/ez/.pyenv/versions/3.11.10/lib/python3.11/site-packages (from openai) (2.10.6)\n",
      "Requirement already satisfied: sniffio in /Users/ez/.pyenv/versions/3.11.10/lib/python3.11/site-packages (from openai) (1.3.1)\n",
      "Requirement already satisfied: tqdm>4 in /Users/ez/.pyenv/versions/3.11.10/lib/python3.11/site-packages (from openai) (4.67.1)\n",
      "Requirement already satisfied: typing-extensions<5,>=4.7 in /Users/ez/.pyenv/versions/3.11.10/lib/python3.11/site-packages (from openai) (4.12.2)\n",
      "Requirement already satisfied: idna>=2.8 in /Users/ez/.pyenv/versions/3.11.10/lib/python3.11/site-packages (from anyio<5,>=3.5.0->openai) (3.10)\n",
      "Requirement already satisfied: certifi in /Users/ez/.pyenv/versions/3.11.10/lib/python3.11/site-packages (from httpx<1,>=0.23.0->openai) (2024.8.30)\n",
      "Requirement already satisfied: httpcore==1.* in /Users/ez/.pyenv/versions/3.11.10/lib/python3.11/site-packages (from httpx<1,>=0.23.0->openai) (1.0.7)\n",
      "Requirement already satisfied: h11<0.15,>=0.13 in /Users/ez/.pyenv/versions/3.11.10/lib/python3.11/site-packages (from httpcore==1.*->httpx<1,>=0.23.0->openai) (0.14.0)\n",
      "Requirement already satisfied: annotated-types>=0.6.0 in /Users/ez/.pyenv/versions/3.11.10/lib/python3.11/site-packages (from pydantic<3,>=1.9.0->openai) (0.7.0)\n",
      "Requirement already satisfied: pydantic-core==2.27.2 in /Users/ez/.pyenv/versions/3.11.10/lib/python3.11/site-packages (from pydantic<3,>=1.9.0->openai) (2.27.2)\n"
     ]
    }
   ],
   "source": [
    "!pip install python-dotenv openai"
   ]
  },
  {
   "cell_type": "code",
   "execution_count": 2,
   "metadata": {},
   "outputs": [],
   "source": [
    "import os\n",
    "from dotenv import load_dotenv\n",
    "\n",
    "# Load environment variables from .env file\n",
    "load_dotenv()\n",
    "\n",
    "# Get the API key from environment variables\n",
    "api_key = os.environ.get(\"OPENAI_API_KEY\")\n",
    "\n",
    "# Throw exception if API key is not set or empty\n",
    "if not api_key or api_key == \"\":\n",
    "    raise ValueError(\"OpenAI API key is not set. Please add it to the .env file.\")\n",
    "\n",
    "from openai import OpenAI\n",
    "client = OpenAI()"
   ]
  },
  {
   "cell_type": "markdown",
   "metadata": {},
   "source": [
    "# Simple LLM call"
   ]
  },
  {
   "cell_type": "code",
   "execution_count": 4,
   "metadata": {},
   "outputs": [
    {
     "name": "stdout",
     "output_type": "stream",
     "text": [
      "Hi Bob! Nice to meet you. How can I help you today?\n"
     ]
    }
   ],
   "source": [
    "completion = client.chat.completions.create(\n",
    "    model=\"gpt-4.1\",\n",
    "    messages=[\n",
    "        {\n",
    "            \"role\": \"user\",\n",
    "            \"content\": \"Hi, my name is bob.\"\n",
    "        }\n",
    "    ]\n",
    ")\n",
    "\n",
    "print(completion.choices[0].message.content)"
   ]
  },
  {
   "cell_type": "markdown",
   "metadata": {},
   "source": [
    "# Does an LLM remember my name?"
   ]
  },
  {
   "cell_type": "code",
   "execution_count": 5,
   "metadata": {},
   "outputs": [
    {
     "name": "stdout",
     "output_type": "stream",
     "text": [
      "I don’t have access to personal information like your name unless you tell me. If you’d like to share your name, feel free! Otherwise, how can I help you today?\n"
     ]
    }
   ],
   "source": [
    "completion = client.chat.completions.create(\n",
    "    model=\"gpt-4.1\",\n",
    "    messages=[\n",
    "        {\n",
    "            \"role\": \"user\",\n",
    "            \"content\": \"what is my name?\"\n",
    "        }\n",
    "    ]\n",
    ")\n",
    "\n",
    "print(completion.choices[0].message.content)"
   ]
  },
  {
   "cell_type": "markdown",
   "metadata": {},
   "source": [
    "# LLM with simple memory"
   ]
  },
  {
   "cell_type": "code",
   "execution_count": 5,
   "metadata": {},
   "outputs": [
    {
     "name": "stdin",
     "output_type": "stream",
     "text": [
      "You:  hi\n"
     ]
    },
    {
     "name": "stdout",
     "output_type": "stream",
     "text": [
      "Assistant: Hello! How can I help you today? 😊\n"
     ]
    },
    {
     "name": "stdin",
     "output_type": "stream",
     "text": [
      "You:  my name is bob\n"
     ]
    },
    {
     "name": "stdout",
     "output_type": "stream",
     "text": [
      "Assistant: Hi Bob! Nice to meet you. How can I assist you today?\n"
     ]
    },
    {
     "name": "stdin",
     "output_type": "stream",
     "text": [
      "You:  what is my name?\n"
     ]
    },
    {
     "name": "stdout",
     "output_type": "stream",
     "text": [
      "Assistant: Your name is Bob!\n"
     ]
    },
    {
     "name": "stdin",
     "output_type": "stream",
     "text": [
      "You:  bye\n"
     ]
    },
    {
     "name": "stdout",
     "output_type": "stream",
     "text": [
      "Assistant: Goodbye!\n",
      "\n",
      "Conversation ended. Total messages: 6\n",
      "\n",
      "Chat: [{'role': 'user', 'content': 'hi'}, {'role': 'assistant', 'content': 'Hello! How can I help you today? 😊'}, {'role': 'user', 'content': 'my name is bob'}, {'role': 'assistant', 'content': 'Hi Bob! Nice to meet you. How can I assist you today?'}, {'role': 'user', 'content': 'what is my name?'}, {'role': 'assistant', 'content': 'Your name is Bob!'}]\n"
     ]
    }
   ],
   "source": [
    "messages: list[dict[str, str]] = []\n",
    "while True:\n",
    "    user_input = input(\"You: \")\n",
    "    if user_input.lower() in [\"exit\", \"quit\", \"bye\"]:\n",
    "        print(\"Assistant: Goodbye!\")\n",
    "        break\n",
    "    messages.append({\"role\": \"user\", \"content\": user_input})\n",
    "    completion = client.chat.completions.create(\n",
    "        model=\"gpt-4.1\",\n",
    "        messages=messages\n",
    "    )\n",
    "    assistant_response = completion.choices[0].message.content\n",
    "    messages.append({\"role\": \"assistant\", \"content\": assistant_response})\n",
    "    print(f\"Assistant: {assistant_response}\")\n",
    "print(f\"\\nConversation ended. Total messages: {len(messages)}\")\n",
    "print(f\"\\nChat: {messages}\")"
   ]
  },
  {
   "cell_type": "markdown",
   "metadata": {},
   "source": [
    "# Does LLM have access live or real-time data?"
   ]
  },
  {
   "cell_type": "code",
   "execution_count": 6,
   "metadata": {},
   "outputs": [
    {
     "name": "stdout",
     "output_type": "stream",
     "text": [
      "I don't have access to real-time stock prices. For the most current value of Apple Inc. (AAPL) stock, please check a financial news website, a stock market app, or your brokerage platform. Popular options include Yahoo Finance, Google Finance, Bloomberg, or CNBC.\n"
     ]
    }
   ],
   "source": [
    "completion = client.chat.completions.create(\n",
    "    model=\"gpt-4.1\",\n",
    "    messages=[\n",
    "        {\n",
    "            \"role\": \"user\",\n",
    "            \"content\": \"what is apple stock value?\"\n",
    "        }\n",
    "    ]\n",
    ")\n",
    "\n",
    "print(completion.choices[0].message.content)"
   ]
  },
  {
   "cell_type": "code",
   "execution_count": 10,
   "metadata": {},
   "outputs": [
    {
     "name": "stdout",
     "output_type": "stream",
     "text": [
      "I do not have access to real-time financial data, so I can't provide the current value of Apple (AAPL) stock. However, you can easily retrieve the latest stock value using several reliable tools, APIs, or data sources. Here are some of the best options:\n",
      "\n",
      "**Free APIs and Data Sources:**\n",
      "\n",
      "1. **Yahoo Finance API (Unofficial)**\n",
      "   - Python Library: [`yfinance`](https://pypi.org/project/yfinance/)\n",
      "   - Example usage:\n",
      "     ```python\n",
      "     import yfinance as yf\n",
      "     apple = yf.Ticker(\"AAPL\")\n",
      "     print(apple.info['regularMarketPrice'])\n",
      "     ```\n",
      "   - Provides data on prices, historical data, dividends, and more.\n",
      "\n",
      "2. **Alpha Vantage**\n",
      "   - Website: [https://www.alphavantage.co/](https://www.alphavantage.co/)\n",
      "   - Free with API key (registration required)\n",
      "   - Example endpoint: `https://www.alphavantage.co/query?function=GLOBAL_QUOTE&symbol=AAPL&apikey=YOUR_API_KEY`\n",
      "\n",
      "3. **Finnhub**\n",
      "   - Website: [https://finnhub.io/](https://finnhub.io/)\n",
      "   - Free tier available (API key required)\n",
      "   - Example endpoint: `https://finnhub.io/api/v1/quote?symbol=AAPL&token=YOUR_API_KEY`\n",
      "\n",
      "**Web Tools (No coding required):**\n",
      "- [Yahoo Finance – AAPL page](https://finance.yahoo.com/quote/AAPL)\n",
      "- [Google Finance – AAPL page](https://www.google.com/finance/quote/AAPL:NASDAQ)\n",
      "- [Bloomberg – Apple Stock](https://www.bloomberg.com/quote/AAPL:US)\n",
      "\n",
      "These are reliable ways to get the latest Apple stock value, either programmatically or through a web interface. If you need a specific code example or further help using any of these services, let me know!\n"
     ]
    }
   ],
   "source": [
    "completion = client.chat.completions.create(\n",
    "    model=\"gpt-4.1\",\n",
    "    messages=[\n",
    "        {\n",
    "            \"role\": \"user\",\n",
    "            \"content\": \"\"\"what is apple stock value? \n",
    "            If you don't have access to real-time financial data, please suggest the best tool, API, \n",
    "            or data source I can use to retrieve the latest stock value.\"\"\"\n",
    "        }\n",
    "    ]\n",
    ")\n",
    "\n",
    "print(completion.choices[0].message.content)"
   ]
  },
  {
   "cell_type": "markdown",
   "metadata": {},
   "source": [
    "# Native LLM Tools API"
   ]
  },
  {
   "cell_type": "code",
   "execution_count": 8,
   "metadata": {},
   "outputs": [
    {
     "name": "stdout",
     "output_type": "stream",
     "text": [
      "Collecting yfinance\n",
      "  Downloading yfinance-0.2.55-py2.py3-none-any.whl.metadata (5.8 kB)\n",
      "Requirement already satisfied: pandas>=1.3.0 in /Users/ez/.pyenv/versions/3.11.10/lib/python3.11/site-packages (from yfinance) (2.2.3)\n",
      "Requirement already satisfied: numpy>=1.16.5 in /Users/ez/.pyenv/versions/3.11.10/lib/python3.11/site-packages (from yfinance) (2.2.3)\n",
      "Requirement already satisfied: requests>=2.31 in /Users/ez/.pyenv/versions/3.11.10/lib/python3.11/site-packages (from yfinance) (2.32.3)\n",
      "Collecting multitasking>=0.0.7 (from yfinance)\n",
      "  Downloading multitasking-0.0.11-py3-none-any.whl.metadata (5.5 kB)\n",
      "Requirement already satisfied: platformdirs>=2.0.0 in /Users/ez/.pyenv/versions/3.11.10/lib/python3.11/site-packages (from yfinance) (3.11.0)\n",
      "Requirement already satisfied: pytz>=2022.5 in /Users/ez/.pyenv/versions/3.11.10/lib/python3.11/site-packages (from yfinance) (2024.2)\n",
      "Collecting frozendict>=2.3.4 (from yfinance)\n",
      "  Downloading frozendict-2.4.6-py311-none-any.whl.metadata (23 kB)\n",
      "Collecting peewee>=3.16.2 (from yfinance)\n",
      "  Downloading peewee-3.17.9.tar.gz (3.0 MB)\n",
      "\u001b[2K     \u001b[38;2;114;156;31m━━━━━━━━━━━━━━━━━━━━━━━━━━━━━━━━━━━━━━━━\u001b[0m \u001b[32m3.0/3.0 MB\u001b[0m \u001b[31m11.4 MB/s\u001b[0m eta \u001b[36m0:00:00\u001b[0mm eta \u001b[36m-:--:--\u001b[0m\n",
      "\u001b[?25h  Installing build dependencies ... \u001b[?25ldone\n",
      "\u001b[?25h  Getting requirements to build wheel ... \u001b[?25ldone\n",
      "\u001b[?25h  Preparing metadata (pyproject.toml) ... \u001b[?25ldone\n",
      "\u001b[?25hRequirement already satisfied: beautifulsoup4>=4.11.1 in /Users/ez/.pyenv/versions/3.11.10/lib/python3.11/site-packages (from yfinance) (4.13.3)\n",
      "Requirement already satisfied: soupsieve>1.2 in /Users/ez/.pyenv/versions/3.11.10/lib/python3.11/site-packages (from beautifulsoup4>=4.11.1->yfinance) (2.6)\n",
      "Requirement already satisfied: typing-extensions>=4.0.0 in /Users/ez/.pyenv/versions/3.11.10/lib/python3.11/site-packages (from beautifulsoup4>=4.11.1->yfinance) (4.12.2)\n",
      "Requirement already satisfied: python-dateutil>=2.8.2 in /Users/ez/.pyenv/versions/3.11.10/lib/python3.11/site-packages (from pandas>=1.3.0->yfinance) (2.9.0.post0)\n",
      "Requirement already satisfied: tzdata>=2022.7 in /Users/ez/.pyenv/versions/3.11.10/lib/python3.11/site-packages (from pandas>=1.3.0->yfinance) (2025.1)\n",
      "Requirement already satisfied: charset-normalizer<4,>=2 in /Users/ez/.pyenv/versions/3.11.10/lib/python3.11/site-packages (from requests>=2.31->yfinance) (3.4.0)\n",
      "Requirement already satisfied: idna<4,>=2.5 in /Users/ez/.pyenv/versions/3.11.10/lib/python3.11/site-packages (from requests>=2.31->yfinance) (3.10)\n",
      "Requirement already satisfied: urllib3<3,>=1.21.1 in /Users/ez/.pyenv/versions/3.11.10/lib/python3.11/site-packages (from requests>=2.31->yfinance) (2.2.3)\n",
      "Requirement already satisfied: certifi>=2017.4.17 in /Users/ez/.pyenv/versions/3.11.10/lib/python3.11/site-packages (from requests>=2.31->yfinance) (2024.8.30)\n",
      "Requirement already satisfied: six>=1.5 in /Users/ez/.pyenv/versions/3.11.10/lib/python3.11/site-packages (from python-dateutil>=2.8.2->pandas>=1.3.0->yfinance) (1.17.0)\n",
      "Downloading yfinance-0.2.55-py2.py3-none-any.whl (109 kB)\n",
      "Downloading frozendict-2.4.6-py311-none-any.whl (16 kB)\n",
      "Downloading multitasking-0.0.11-py3-none-any.whl (8.5 kB)\n",
      "Building wheels for collected packages: peewee\n",
      "  Building wheel for peewee (pyproject.toml) ... \u001b[?25ldone\n",
      "\u001b[?25h  Created wheel for peewee: filename=peewee-3.17.9-cp311-cp311-macosx_14_0_arm64.whl size=273731 sha256=4b99a9d5fb65e3838bb43162764201b491fbca39580755a7e3ba38f343944e37\n",
      "  Stored in directory: /Users/ez/Library/Caches/pip/wheels/f4/14/e4/50c88c865833085aeb91e2bd40e3a683ff434806386b8ee7bc\n",
      "Successfully built peewee\n",
      "Installing collected packages: peewee, multitasking, frozendict, yfinance\n",
      "Successfully installed frozendict-2.4.6 multitasking-0.0.11 peewee-3.17.9 yfinance-0.2.55\n"
     ]
    }
   ],
   "source": [
    "!pip install yfinance"
   ]
  },
  {
   "cell_type": "code",
   "execution_count": 60,
   "metadata": {},
   "outputs": [
    {
     "name": "stdout",
     "output_type": "stream",
     "text": [
      "196.98\n"
     ]
    }
   ],
   "source": [
    "import yfinance as yf\n",
    "\n",
    "def get_stock_price(symbol:str):\n",
    "    stock_data = yf.Ticker(symbol)\n",
    "    return stock_data.info[\"currentPrice\"]\n",
    "\n",
    "\n",
    "stock_price = get_stock_price(\"AAPL\")\n",
    "print(stock_price)"
   ]
  },
  {
   "cell_type": "code",
   "execution_count": 62,
   "metadata": {},
   "outputs": [
    {
     "name": "stdout",
     "output_type": "stream",
     "text": [
      "[ChatCompletionMessageToolCall(id='call_bD7V8fLtweyrcs17AdTLmXxG', function=Function(arguments='{\"symbol\":\"AAPL\"}', name='get_stock_price'), type='function')]\n"
     ]
    }
   ],
   "source": [
    "tools = [{\n",
    "    \"type\": \"function\",\n",
    "    \"function\": {\n",
    "        \"name\": \"get_stock_price\",\n",
    "        \"description\": \"Get the current stock price for a given company symbol using yfinance.\",\n",
    "        \"parameters\": {\n",
    "            \"type\": \"object\",\n",
    "            \"properties\": {\n",
    "                \"symbol\": {\n",
    "                    \"type\": \"string\",\n",
    "                    \"description\": \"Stock ticker symbol, e.g., AAPL for Apple, TSLA for Tesla\"\n",
    "                }\n",
    "            },\n",
    "            \"required\": [\"symbol\"],\n",
    "            \"additionalProperties\": False\n",
    "        },\n",
    "        \"strict\": True\n",
    "    }\n",
    "}]\n",
    "\n",
    "completion = client.chat.completions.create(\n",
    "    model=\"gpt-4.1\",\n",
    "    messages=[{\"role\": \"user\", \"content\": \"what is apple stock value?\"}],\n",
    "    tools=tools\n",
    ")\n",
    "\n",
    "print(completion.choices[0].message.tool_calls)"
   ]
  },
  {
   "cell_type": "code",
   "execution_count": 30,
   "metadata": {},
   "outputs": [
    {
     "name": "stdout",
     "output_type": "stream",
     "text": [
      "tool_calls:  None\n",
      "ChatCompletionMessage(content=\"I currently don't have real-time access to weather data. If you let me know your location, I can suggest where to find up-to-date weather information or provide tips for checking today's forecast!\", refusal=None, role='assistant', annotations=[], audio=None, function_call=None, tool_calls=None)\n"
     ]
    }
   ],
   "source": [
    "completion = client.chat.completions.create(\n",
    "    model=\"gpt-4.1\",\n",
    "    messages=[{\"role\": \"user\", \"content\": \"what is the weather today?\"}],\n",
    "    tools=tools\n",
    ")\n",
    "\n",
    "print(\"tool_calls: \", completion.choices[0].message.tool_calls)\n",
    "print(completion.choices[0].message)"
   ]
  },
  {
   "cell_type": "code",
   "execution_count": 51,
   "metadata": {},
   "outputs": [
    {
     "name": "stdout",
     "output_type": "stream",
     "text": [
      "[ChatCompletionMessageToolCall(id='call_ICPMMOcHVv1bFZ3OSuqGtlQo', function=Function(arguments='{\"symbol\":\"AAPL\"}', name='get_stock_price'), type='function')]\n",
      "Function called: get_stock_price\n",
      "Arguments passed: {\"symbol\":\"AAPL\"}\n"
     ]
    }
   ],
   "source": [
    "import json\n",
    "\n",
    "completion = client.chat.completions.create(\n",
    "    model=\"gpt-4.1\",\n",
    "    messages=[{\"role\": \"user\", \"content\": \"what is apple stock value?\"}],\n",
    "    tools=tools\n",
    ")\n",
    "tool_calls = completion.choices[0].message.tool_calls\n",
    "print(tool_calls)\n",
    "\n",
    "for call in tool_calls:\n",
    "    func_name = call.function.name\n",
    "    func_args = call.function.arguments\n",
    "    \n",
    "    print(f\"Function called: {func_name}\")\n",
    "    print(f\"Arguments passed: {func_args}\")\n",
    "    \n",
    "    if (func_name == \"get_stock_price\"):\n",
    "        json = json.loads(func_args)\n",
    "        symbol = json.get(\"symbol\")\n",
    "        result = get_stock_price(symbol)"
   ]
  },
  {
   "cell_type": "code",
   "execution_count": 56,
   "metadata": {},
   "outputs": [
    {
     "name": "stdout",
     "output_type": "stream",
     "text": [
      "Apple's current stock value is $196.98 per share. If you need more details or historical data, let me know!\n"
     ]
    }
   ],
   "source": [
    "import json\n",
    "\n",
    "messages = [{\"role\": \"user\", \"content\": \"what is apple stock value?\"}]\n",
    "\n",
    "completion = client.chat.completions.create(\n",
    "    model=\"gpt-4.1\",\n",
    "    messages=messages,\n",
    "    tools=tools\n",
    ")\n",
    "messages.append(completion.choices[0].message)\n",
    "tool_calls = completion.choices[0].message.tool_calls\n",
    "\n",
    "for call in tool_calls:\n",
    "    func_name = call.function.name\n",
    "    func_args = call.function.arguments\n",
    "    \n",
    "    \n",
    "    if (func_name == \"get_stock_price\"):\n",
    "        json = json.loads(func_args)\n",
    "        symbol = json.get(\"symbol\")\n",
    "        result = get_stock_price(symbol)\n",
    "        \n",
    "        messages.append({\n",
    "            \"role\": \"tool\",\n",
    "            \"tool_call_id\": call.id,\n",
    "            \"content\": str(result),\n",
    "        })\n",
    "\n",
    "        completion = client.chat.completions.create(\n",
    "            model=\"gpt-4.1\",\n",
    "            messages=messages,\n",
    "            tools=tools\n",
    "        )\n",
    "        print(completion.choices[0].message.content)\n",
    "        "
   ]
  },
  {
   "cell_type": "markdown",
   "metadata": {},
   "source": [
    "# LLM tool calling sequance diagram"
   ]
  },
  {
   "cell_type": "markdown",
   "metadata": {},
   "source": [
    "```mermaid\n",
    "sequenceDiagram\n",
    "    participant Client as Python Client\n",
    "    participant API as OpenAI API\n",
    "    participant Assistant as AI Assistant\n",
    "    participant Tools as External Tools\n",
    "    \n",
    "    Client->>API: chat.completions.create(messages, tools)\n",
    "    API->>Assistant: Process request with tools definition\n",
    "    \n",
    "    alt Assistant decides to use tool\n",
    "        Assistant->>API: Return tool_call\n",
    "        API->>Client: Response with tool_calls\n",
    "        \n",
    "        Client->>Tools: Execute tool_call\n",
    "        Tools->>Client: Tool execution result\n",
    "        \n",
    "        Client->>API: Send tool results in new request\n",
    "        API->>Assistant: Process with tool results\n",
    "        Assistant->>API: Return final response\n",
    "        API->>Client: Final response\n",
    "    else Assistant responds directly\n",
    "        Assistant->>API: Return text response\n",
    "        API->>Client: Response without tool_calls\n",
    "    end\n",
    "```"
   ]
  },
  {
   "cell_type": "markdown",
   "metadata": {},
   "source": [
    "# Agent with tool"
   ]
  },
  {
   "cell_type": "code",
   "execution_count": 70,
   "metadata": {},
   "outputs": [
    {
     "name": "stdin",
     "output_type": "stream",
     "text": [
      "You:  what is stock price of microsoft?\n"
     ]
    },
    {
     "name": "stdout",
     "output_type": "stream",
     "text": [
      "func_name get_stock_price\n",
      "func_args {'symbol': 'MSFT'}\n",
      "Assistant: The current stock price of Microsoft (MSFT) is $367.78.\n"
     ]
    },
    {
     "name": "stdin",
     "output_type": "stream",
     "text": [
      "You:  what is my name?\n"
     ]
    },
    {
     "name": "stdout",
     "output_type": "stream",
     "text": [
      "Assistant: You haven’t provided your name yet. If you’d like to share your name, I’ll remember it for our conversation!\n"
     ]
    },
    {
     "name": "stdin",
     "output_type": "stream",
     "text": [
      "You:  my name is bob\n"
     ]
    },
    {
     "name": "stdout",
     "output_type": "stream",
     "text": [
      "Assistant: Nice to meet you, Bob! How can I help you today?\n"
     ]
    },
    {
     "name": "stdin",
     "output_type": "stream",
     "text": [
      "You:  what is stock price of tesla?\n"
     ]
    },
    {
     "name": "stdout",
     "output_type": "stream",
     "text": [
      "func_name get_stock_price\n",
      "func_args {'symbol': 'TSLA'}\n",
      "Assistant: The current stock price of Tesla (TSLA) is $241.37.\n"
     ]
    },
    {
     "name": "stdin",
     "output_type": "stream",
     "text": [
      "You:  what is my name?\n"
     ]
    },
    {
     "name": "stdout",
     "output_type": "stream",
     "text": [
      "Assistant: Your name is Bob. How can I assist you further?\n"
     ]
    },
    {
     "name": "stdin",
     "output_type": "stream",
     "text": [
      "You:  bye\n"
     ]
    },
    {
     "name": "stdout",
     "output_type": "stream",
     "text": [
      "Assistant: Goodbye!\n",
      "\n",
      "Conversation ended. Total messages: 14\n",
      "\n",
      "Chat: [{'role': 'user', 'content': 'what is stock price of microsoft?'}, ChatCompletionMessage(content=None, refusal=None, role='assistant', annotations=[], audio=None, function_call=None, tool_calls=[ChatCompletionMessageToolCall(id='call_Ty0QsbTB8UBMsoVYWUfqBdpP', function=Function(arguments='{\"symbol\":\"MSFT\"}', name='get_stock_price'), type='function')]), {'role': 'tool', 'tool_call_id': 'call_Ty0QsbTB8UBMsoVYWUfqBdpP', 'content': '367.78'}, {'role': 'assistant', 'content': 'The current stock price of Microsoft (MSFT) is $367.78.'}, {'role': 'user', 'content': 'what is my name?'}, ChatCompletionMessage(content='You haven’t provided your name yet. If you’d like to share your name, I’ll remember it for our conversation!', refusal=None, role='assistant', annotations=[], audio=None, function_call=None, tool_calls=None), {'role': 'user', 'content': 'my name is bob'}, ChatCompletionMessage(content='Nice to meet you, Bob! How can I help you today?', refusal=None, role='assistant', annotations=[], audio=None, function_call=None, tool_calls=None), {'role': 'user', 'content': 'what is stock price of tesla?'}, ChatCompletionMessage(content=None, refusal=None, role='assistant', annotations=[], audio=None, function_call=None, tool_calls=[ChatCompletionMessageToolCall(id='call_KujC8rb09CgLfg7Cp1sgNwnY', function=Function(arguments='{\"symbol\":\"TSLA\"}', name='get_stock_price'), type='function')]), {'role': 'tool', 'tool_call_id': 'call_KujC8rb09CgLfg7Cp1sgNwnY', 'content': '241.37'}, {'role': 'assistant', 'content': 'The current stock price of Tesla (TSLA) is $241.37.'}, {'role': 'user', 'content': 'what is my name?'}, ChatCompletionMessage(content='Your name is Bob. How can I assist you further?', refusal=None, role='assistant', annotations=[], audio=None, function_call=None, tool_calls=None)]\n"
     ]
    }
   ],
   "source": [
    "import json\n",
    "\n",
    "messages = []\n",
    "tools = [{\n",
    "    \"type\": \"function\",\n",
    "    \"function\": {\n",
    "        \"name\": \"get_stock_price\",\n",
    "        \"description\": \"Get the current stock price for a given company symbol using yfinance.\",\n",
    "        \"parameters\": {\n",
    "            \"type\": \"object\",\n",
    "            \"properties\": {\n",
    "                \"symbol\": {\n",
    "                    \"type\": \"string\",\n",
    "                    \"description\": \"Stock ticker symbol, e.g., AAPL for Apple, TSLA for Tesla\"\n",
    "                }\n",
    "            },\n",
    "            \"required\": [\"symbol\"],\n",
    "            \"additionalProperties\": False\n",
    "        },\n",
    "        \"strict\": True\n",
    "    }\n",
    "}]\n",
    "\n",
    "while True:\n",
    "    user_input = input(\"You: \")\n",
    "    \n",
    "    # Exit condition\n",
    "    if user_input.lower() in [\"exit\", \"quit\", \"bye\"]:\n",
    "        print(\"Assistant: Goodbye!\")\n",
    "        break\n",
    "\n",
    "    # Add user input to messages\n",
    "    messages.append({\"role\": \"user\", \"content\": user_input})\n",
    "    \n",
    "    # Make the API call\n",
    "    completion = client.chat.completions.create(\n",
    "        model=\"gpt-4.1\",\n",
    "        messages=messages,\n",
    "        tools=tools  # Use tools for function calls\n",
    "    )\n",
    "    \n",
    "    messages.append(completion.choices[0].message)\n",
    "    \n",
    "    # Check if there are tool calls (e.g., to get stock price)\n",
    "    tool_calls = completion.choices[0].message.tool_calls\n",
    "    if tool_calls:\n",
    "        for call in tool_calls:\n",
    "            func_name = call.function.name\n",
    "            func_args = json.loads(call.function.arguments)  # Parse arguments as JSON\n",
    "            if func_name == \"get_stock_price\":\n",
    "                symbol = func_args.get(\"symbol\")\n",
    "                if symbol:\n",
    "                    result = get_stock_price(symbol)  # Fetch stock price\n",
    "                \n",
    "                    # Append tool result to the conversation\n",
    "                    messages.append({\n",
    "                        \"role\": \"tool\",\n",
    "                        \"tool_call_id\": call.id,\n",
    "                        \"content\": str(result),\n",
    "                    })\n",
    "    \n",
    "                    # Re-run the completion with the updated messages and tools\n",
    "                    completion = client.chat.completions.create(\n",
    "                        model=\"gpt-4.1\",\n",
    "                        messages=messages,\n",
    "                        tools=tools\n",
    "                    )\n",
    "                    \n",
    "                    # Print the assistant's updated response\n",
    "                    assistant_response = completion.choices[0].message.content\n",
    "                    messages.append({\"role\": \"assistant\", \"content\": assistant_response})\n",
    "                    print(f\"Assistant: {assistant_response}\")\n",
    "        \n",
    "    # Print the assistant's response if no tool call was made\n",
    "    if not tool_calls:\n",
    "        assistant_response = completion.choices[0].message.content\n",
    "        print(f\"Assistant: {assistant_response}\")\n",
    "    \n",
    "# End of the conversation\n",
    "print(f\"\\nConversation ended. Total messages: {len(messages)}\")\n",
    "print(f\"\\nChat: {messages}\")\n"
   ]
  },
  {
   "cell_type": "markdown",
   "metadata": {},
   "source": [
    "# Agent with tools"
   ]
  },
  {
   "cell_type": "code",
   "execution_count": 76,
   "metadata": {},
   "outputs": [],
   "source": [
    "import requests\n",
    "\n",
    "def get_weather(latitude, longitude):\n",
    "    response = requests.get(f\"https://api.open-meteo.com/v1/forecast?latitude={latitude}&longitude={longitude}&current=temperature_2m,wind_speed_10m&hourly=temperature_2m,relative_humidity_2m,wind_speed_10m\")\n",
    "    data = response.json()\n",
    "    return data['current']['temperature_2m']"
   ]
  },
  {
   "cell_type": "code",
   "execution_count": 83,
   "metadata": {
    "collapsed": true,
    "jupyter": {
     "outputs_hidden": true
    }
   },
   "outputs": [
    {
     "name": "stdin",
     "output_type": "stream",
     "text": [
      "You:  what is the weather in lisbon?\n"
     ]
    },
    {
     "name": "stdout",
     "output_type": "stream",
     "text": [
      "Assistant: The current temperature in Lisbon is 16.6°C. If you need more detailed weather information, just let me know!\n"
     ]
    },
    {
     "name": "stdin",
     "output_type": "stream",
     "text": [
      "You:  what is the stock price of tesla?\n"
     ]
    },
    {
     "name": "stdout",
     "output_type": "stream",
     "text": [
      "Assistant: The current stock price of Tesla (TSLA) is $241.37. If you need more details or recent trends, feel free to ask!\n"
     ]
    },
    {
     "name": "stdin",
     "output_type": "stream",
     "text": [
      "You:  bye\n"
     ]
    },
    {
     "name": "stdout",
     "output_type": "stream",
     "text": [
      "Assistant: Goodbye!\n",
      "\n",
      "Conversation ended. Total messages: 8\n",
      "\n",
      "Chat: [{'role': 'user', 'content': 'what is the weather in lisbon?'}, ChatCompletionMessage(content=None, refusal=None, role='assistant', annotations=[], audio=None, function_call=None, tool_calls=[ChatCompletionMessageToolCall(id='call_wtDDLkeStGTSBcFpeGYWgFB4', function=Function(arguments='{\"latitude\":38.7223,\"longitude\":-9.1393}', name='get_weather'), type='function')]), {'role': 'tool', 'tool_call_id': 'call_wtDDLkeStGTSBcFpeGYWgFB4', 'content': '16.6'}, {'role': 'assistant', 'content': 'The current temperature in Lisbon is 16.6°C. If you need more detailed weather information, just let me know!'}, {'role': 'user', 'content': 'what is the stock price of tesla?'}, ChatCompletionMessage(content=None, refusal=None, role='assistant', annotations=[], audio=None, function_call=None, tool_calls=[ChatCompletionMessageToolCall(id='call_WZOnqrgLYWw9EpjJn2txrI8Y', function=Function(arguments='{\"symbol\":\"TSLA\"}', name='get_stock_price'), type='function')]), {'role': 'tool', 'tool_call_id': 'call_WZOnqrgLYWw9EpjJn2txrI8Y', 'content': '241.37'}, {'role': 'assistant', 'content': 'The current stock price of Tesla (TSLA) is $241.37. If you need more details or recent trends, feel free to ask!'}]\n"
     ]
    }
   ],
   "source": [
    "import json\n",
    "\n",
    "messages = []\n",
    "tools = [{\n",
    "    \"type\": \"function\",\n",
    "    \"function\": {\n",
    "        \"name\": \"get_stock_price\",\n",
    "        \"description\": \"Get the current stock price for a given company symbol using yfinance.\",\n",
    "        \"parameters\": {\n",
    "            \"type\": \"object\",\n",
    "            \"properties\": {\n",
    "                \"symbol\": {\n",
    "                    \"type\": \"string\",\n",
    "                    \"description\": \"Stock ticker symbol, e.g., AAPL for Apple, TSLA for Tesla\"\n",
    "                }\n",
    "            },\n",
    "            \"required\": [\"symbol\"],\n",
    "            \"additionalProperties\": False\n",
    "        },\n",
    "        \"strict\": True\n",
    "    }\n",
    "},{\n",
    "    \"type\": \"function\",\n",
    "    \"function\": {\n",
    "        \"name\": \"get_weather\",\n",
    "        \"description\": \"Get current temperature for provided coordinates in celsius.\",\n",
    "        \"parameters\": {\n",
    "            \"type\": \"object\",\n",
    "            \"properties\": {\n",
    "                \"latitude\": {\"type\": \"number\"},\n",
    "                \"longitude\": {\"type\": \"number\"}\n",
    "            },\n",
    "            \"required\": [\"latitude\", \"longitude\"],\n",
    "            \"additionalProperties\": False\n",
    "        },\n",
    "        \"strict\": True\n",
    "    }\n",
    "}]\n",
    "\n",
    "while True:\n",
    "    user_input = input(\"You: \")\n",
    "    \n",
    "    # Exit condition\n",
    "    if user_input.lower() in [\"exit\", \"quit\", \"bye\"]:\n",
    "        print(\"Assistant: Goodbye!\")\n",
    "        break\n",
    "\n",
    "    # Add user input to messages\n",
    "    messages.append({\"role\": \"user\", \"content\": user_input})\n",
    "    \n",
    "    # Make the API call\n",
    "    completion = client.chat.completions.create(\n",
    "        model=\"gpt-4.1\",\n",
    "        messages=messages,\n",
    "        tools=tools  # Use tools for function calls\n",
    "    )\n",
    "    \n",
    "    messages.append(completion.choices[0].message)\n",
    "    \n",
    "    # Check if there are tool calls (e.g., to get stock price)\n",
    "    tool_calls = completion.choices[0].message.tool_calls\n",
    "    if tool_calls:\n",
    "        for call in tool_calls:\n",
    "            func_name = call.function.name\n",
    "            func_args = json.loads(call.function.arguments)  # Parse arguments as JSON\n",
    "            \n",
    "            if func_name == \"get_stock_price\":\n",
    "                symbol = func_args.get(\"symbol\")\n",
    "                result = get_stock_price(symbol)\n",
    "            if func_name == \"get_weather\":\n",
    "                latitude = func_args.get(\"latitude\")\n",
    "                longitude = func_args.get(\"longitude\")\n",
    "                result = get_weather(latitude, longitude)\n",
    "            \n",
    "            # Append tool result to the conversation\n",
    "            messages.append({\n",
    "                \"role\": \"tool\",\n",
    "                \"tool_call_id\": call.id,\n",
    "                \"content\": str(result),\n",
    "            })\n",
    "\n",
    "            # Re-run the completion with the updated messages and tools\n",
    "            completion = client.chat.completions.create(\n",
    "                model=\"gpt-4.1\",\n",
    "                messages=messages,\n",
    "                tools=tools\n",
    "            )\n",
    "            \n",
    "            # Print the assistant's updated response\n",
    "            assistant_response = completion.choices[0].message.content\n",
    "            messages.append({\"role\": \"assistant\", \"content\": assistant_response})\n",
    "            print(f\"Assistant: {assistant_response}\")\n",
    "        \n",
    "    # Print the assistant's response if no tool call was made\n",
    "    if not tool_calls:\n",
    "        assistant_response = completion.choices[0].message.content\n",
    "        print(f\"Assistant: {assistant_response}\")\n",
    "    \n",
    "# End of the conversation\n",
    "print(f\"\\nConversation ended. Total messages: {len(messages)}\")\n",
    "print(f\"\\nChat: {messages}\")\n"
   ]
  },
  {
   "cell_type": "markdown",
   "metadata": {},
   "source": [
    "# AI Framework & Tools"
   ]
  },
  {
   "cell_type": "code",
   "execution_count": 5,
   "metadata": {},
   "outputs": [
    {
     "name": "stdout",
     "output_type": "stream",
     "text": [
      "Collecting langgraph\n",
      "  Downloading langgraph-0.3.31-py3-none-any.whl.metadata (7.9 kB)\n",
      "Collecting langchain\n",
      "  Downloading langchain-0.3.23-py3-none-any.whl.metadata (7.8 kB)\n",
      "Collecting langchain-core<0.4,>=0.1 (from langgraph)\n",
      "  Downloading langchain_core-0.3.54-py3-none-any.whl.metadata (5.9 kB)\n",
      "Collecting langgraph-checkpoint<3.0.0,>=2.0.10 (from langgraph)\n",
      "  Downloading langgraph_checkpoint-2.0.24-py3-none-any.whl.metadata (4.6 kB)\n",
      "Collecting langgraph-prebuilt<0.2,>=0.1.8 (from langgraph)\n",
      "  Downloading langgraph_prebuilt-0.1.8-py3-none-any.whl.metadata (5.0 kB)\n",
      "Collecting langgraph-sdk<0.2.0,>=0.1.42 (from langgraph)\n",
      "  Downloading langgraph_sdk-0.1.61-py3-none-any.whl.metadata (1.8 kB)\n",
      "Collecting xxhash<4.0.0,>=3.5.0 (from langgraph)\n",
      "  Downloading xxhash-3.5.0-cp311-cp311-macosx_11_0_arm64.whl.metadata (12 kB)\n",
      "Collecting langchain-text-splitters<1.0.0,>=0.3.8 (from langchain)\n",
      "  Downloading langchain_text_splitters-0.3.8-py3-none-any.whl.metadata (1.9 kB)\n",
      "Collecting langsmith<0.4,>=0.1.17 (from langchain)\n",
      "  Downloading langsmith-0.3.32-py3-none-any.whl.metadata (15 kB)\n",
      "Requirement already satisfied: pydantic<3.0.0,>=2.7.4 in /Users/ez/.pyenv/versions/3.11.10/lib/python3.11/site-packages (from langchain) (2.10.6)\n",
      "Collecting SQLAlchemy<3,>=1.4 (from langchain)\n",
      "  Downloading sqlalchemy-2.0.40-cp311-cp311-macosx_11_0_arm64.whl.metadata (9.6 kB)\n",
      "Requirement already satisfied: requests<3,>=2 in /Users/ez/.pyenv/versions/3.11.10/lib/python3.11/site-packages (from langchain) (2.32.3)\n",
      "Requirement already satisfied: PyYAML>=5.3 in /Users/ez/.pyenv/versions/3.11.10/lib/python3.11/site-packages (from langchain) (6.0.2)\n",
      "Requirement already satisfied: tenacity!=8.4.0,<10.0.0,>=8.1.0 in /Users/ez/.pyenv/versions/3.11.10/lib/python3.11/site-packages (from langchain-core<0.4,>=0.1->langgraph) (8.5.0)\n",
      "Collecting jsonpatch<2.0,>=1.33 (from langchain-core<0.4,>=0.1->langgraph)\n",
      "  Using cached jsonpatch-1.33-py2.py3-none-any.whl.metadata (3.0 kB)\n",
      "Requirement already satisfied: packaging<25,>=23.2 in /Users/ez/.pyenv/versions/3.11.10/lib/python3.11/site-packages (from langchain-core<0.4,>=0.1->langgraph) (24.2)\n",
      "Requirement already satisfied: typing-extensions>=4.7 in /Users/ez/.pyenv/versions/3.11.10/lib/python3.11/site-packages (from langchain-core<0.4,>=0.1->langgraph) (4.12.2)\n",
      "Collecting ormsgpack<2.0.0,>=1.8.0 (from langgraph-checkpoint<3.0.0,>=2.0.10->langgraph)\n",
      "  Downloading ormsgpack-1.9.1-cp311-cp311-macosx_10_12_x86_64.macosx_11_0_arm64.macosx_10_12_universal2.whl.metadata (43 kB)\n",
      "Requirement already satisfied: httpx>=0.25.2 in /Users/ez/.pyenv/versions/3.11.10/lib/python3.11/site-packages (from langgraph-sdk<0.2.0,>=0.1.42->langgraph) (0.27.0)\n",
      "Collecting orjson>=3.10.1 (from langgraph-sdk<0.2.0,>=0.1.42->langgraph)\n",
      "  Downloading orjson-3.10.16-cp311-cp311-macosx_10_15_x86_64.macosx_11_0_arm64.macosx_10_15_universal2.whl.metadata (41 kB)\n",
      "Requirement already satisfied: requests-toolbelt<2.0.0,>=1.0.0 in /Users/ez/.pyenv/versions/3.11.10/lib/python3.11/site-packages (from langsmith<0.4,>=0.1.17->langchain) (1.0.0)\n",
      "Collecting zstandard<0.24.0,>=0.23.0 (from langsmith<0.4,>=0.1.17->langchain)\n",
      "  Downloading zstandard-0.23.0-cp311-cp311-macosx_11_0_arm64.whl.metadata (3.0 kB)\n",
      "Requirement already satisfied: annotated-types>=0.6.0 in /Users/ez/.pyenv/versions/3.11.10/lib/python3.11/site-packages (from pydantic<3.0.0,>=2.7.4->langchain) (0.7.0)\n",
      "Requirement already satisfied: pydantic-core==2.27.2 in /Users/ez/.pyenv/versions/3.11.10/lib/python3.11/site-packages (from pydantic<3.0.0,>=2.7.4->langchain) (2.27.2)\n",
      "Requirement already satisfied: charset-normalizer<4,>=2 in /Users/ez/.pyenv/versions/3.11.10/lib/python3.11/site-packages (from requests<3,>=2->langchain) (3.4.0)\n",
      "Requirement already satisfied: idna<4,>=2.5 in /Users/ez/.pyenv/versions/3.11.10/lib/python3.11/site-packages (from requests<3,>=2->langchain) (3.10)\n",
      "Requirement already satisfied: urllib3<3,>=1.21.1 in /Users/ez/.pyenv/versions/3.11.10/lib/python3.11/site-packages (from requests<3,>=2->langchain) (2.2.3)\n",
      "Requirement already satisfied: certifi>=2017.4.17 in /Users/ez/.pyenv/versions/3.11.10/lib/python3.11/site-packages (from requests<3,>=2->langchain) (2024.8.30)\n",
      "Requirement already satisfied: anyio in /Users/ez/.pyenv/versions/3.11.10/lib/python3.11/site-packages (from httpx>=0.25.2->langgraph-sdk<0.2.0,>=0.1.42->langgraph) (4.3.0)\n",
      "Requirement already satisfied: httpcore==1.* in /Users/ez/.pyenv/versions/3.11.10/lib/python3.11/site-packages (from httpx>=0.25.2->langgraph-sdk<0.2.0,>=0.1.42->langgraph) (1.0.7)\n",
      "Requirement already satisfied: sniffio in /Users/ez/.pyenv/versions/3.11.10/lib/python3.11/site-packages (from httpx>=0.25.2->langgraph-sdk<0.2.0,>=0.1.42->langgraph) (1.3.1)\n",
      "Requirement already satisfied: h11<0.15,>=0.13 in /Users/ez/.pyenv/versions/3.11.10/lib/python3.11/site-packages (from httpcore==1.*->httpx>=0.25.2->langgraph-sdk<0.2.0,>=0.1.42->langgraph) (0.14.0)\n",
      "Collecting jsonpointer>=1.9 (from jsonpatch<2.0,>=1.33->langchain-core<0.4,>=0.1->langgraph)\n",
      "  Using cached jsonpointer-3.0.0-py2.py3-none-any.whl.metadata (2.3 kB)\n",
      "Downloading langgraph-0.3.31-py3-none-any.whl (145 kB)\n",
      "Downloading langchain-0.3.23-py3-none-any.whl (1.0 MB)\n",
      "\u001b[2K   \u001b[38;2;114;156;31m━━━━━━━━━━━━━━━━━━━━━━━━━━━━━━━━━━━━━━━━\u001b[0m \u001b[32m1.0/1.0 MB\u001b[0m \u001b[31m7.4 MB/s\u001b[0m eta \u001b[36m0:00:00\u001b[0m\n",
      "\u001b[?25hDownloading langchain_core-0.3.54-py3-none-any.whl (433 kB)\n",
      "Downloading langchain_text_splitters-0.3.8-py3-none-any.whl (32 kB)\n",
      "Downloading langgraph_checkpoint-2.0.24-py3-none-any.whl (42 kB)\n",
      "Downloading langgraph_prebuilt-0.1.8-py3-none-any.whl (25 kB)\n",
      "Downloading langgraph_sdk-0.1.61-py3-none-any.whl (47 kB)\n",
      "Downloading langsmith-0.3.32-py3-none-any.whl (358 kB)\n",
      "Downloading sqlalchemy-2.0.40-cp311-cp311-macosx_11_0_arm64.whl (2.1 MB)\n",
      "\u001b[2K   \u001b[38;2;114;156;31m━━━━━━━━━━━━━━━━━━━━━━━━━━━━━━━━━━━━━━━━\u001b[0m \u001b[32m2.1/2.1 MB\u001b[0m \u001b[31m17.2 MB/s\u001b[0m eta \u001b[36m0:00:00\u001b[0m\n",
      "\u001b[?25hDownloading xxhash-3.5.0-cp311-cp311-macosx_11_0_arm64.whl (30 kB)\n",
      "Using cached jsonpatch-1.33-py2.py3-none-any.whl (12 kB)\n",
      "Downloading orjson-3.10.16-cp311-cp311-macosx_10_15_x86_64.macosx_11_0_arm64.macosx_10_15_universal2.whl (249 kB)\n",
      "Downloading ormsgpack-1.9.1-cp311-cp311-macosx_10_12_x86_64.macosx_11_0_arm64.macosx_10_12_universal2.whl (382 kB)\n",
      "Downloading zstandard-0.23.0-cp311-cp311-macosx_11_0_arm64.whl (633 kB)\n",
      "\u001b[2K   \u001b[38;2;114;156;31m━━━━━━━━━━━━━━━━━━━━━━━━━━━━━━━━━━━━━━━━\u001b[0m \u001b[32m633.7/633.7 kB\u001b[0m \u001b[31m28.3 MB/s\u001b[0m eta \u001b[36m0:00:00\u001b[0m\n",
      "\u001b[?25hUsing cached jsonpointer-3.0.0-py2.py3-none-any.whl (7.6 kB)\n",
      "Installing collected packages: zstandard, xxhash, SQLAlchemy, ormsgpack, orjson, jsonpointer, jsonpatch, langsmith, langgraph-sdk, langchain-core, langgraph-checkpoint, langchain-text-splitters, langgraph-prebuilt, langchain, langgraph\n",
      "Successfully installed SQLAlchemy-2.0.40 jsonpatch-1.33 jsonpointer-3.0.0 langchain-0.3.23 langchain-core-0.3.54 langchain-text-splitters-0.3.8 langgraph-0.3.31 langgraph-checkpoint-2.0.24 langgraph-prebuilt-0.1.8 langgraph-sdk-0.1.61 langsmith-0.3.32 orjson-3.10.16 ormsgpack-1.9.1 xxhash-3.5.0 zstandard-0.23.0\n"
     ]
    }
   ],
   "source": [
    "!pip install langgraph langchain"
   ]
  },
  {
   "cell_type": "code",
   "execution_count": 26,
   "metadata": {},
   "outputs": [
    {
     "name": "stdin",
     "output_type": "stream",
     "text": [
      "You:  what is my name?\n"
     ]
    },
    {
     "name": "stdout",
     "output_type": "stream",
     "text": [
      "Assistant: You haven’t shared your name with me yet. If you’d like, you can tell me your name!\n"
     ]
    },
    {
     "name": "stdin",
     "output_type": "stream",
     "text": [
      "You:  bye\n"
     ]
    },
    {
     "name": "stdout",
     "output_type": "stream",
     "text": [
      "Assistant: Goodbye!\n"
     ]
    }
   ],
   "source": [
    "import requests\n",
    "import yfinance as yf\n",
    "from langgraph.prebuilt import create_react_agent\n",
    "\n",
    "def get_weather(latitude, longitude) -> str:\n",
    "    \"\"\"Get weather for a given latitude and longitude.\"\"\"\n",
    "    response = requests.get(f\"https://api.open-meteo.com/v1/forecast?latitude={latitude}&longitude={longitude}&current=temperature_2m,wind_speed_10m&hourly=temperature_2m,relative_humidity_2m,wind_speed_10m\")\n",
    "    data = response.json()\n",
    "    return f\"The current temperature is {data['current']['temperature_2m']}°C.\"\n",
    "\n",
    "def get_stock_price(symbol: str) -> str:\n",
    "    \"\"\"Get the current stock price of a given symbol.\"\"\"\n",
    "    stock_data = yf.Ticker(symbol)\n",
    "    return f\"The current price of {symbol} is ${stock_data.info['currentPrice']}.\"\n",
    "\n",
    "# Create the LangGraph React agent with the tools\n",
    "agent = create_react_agent(\n",
    "    model=\"gpt-4.1\",\n",
    "    tools=[get_weather, get_stock_price],\n",
    "    prompt=\"You are a helpful assistant\"\n",
    ")\n",
    "\n",
    "messages = []\n",
    "\n",
    "while True:\n",
    "    user_input = input(\"You: \")\n",
    "    \n",
    "    # Exit condition\n",
    "    if user_input.lower() in [\"exit\", \"quit\", \"bye\"]:\n",
    "        print(\"Assistant: Goodbye!\")\n",
    "        break        \n",
    "    messages.append({\"role\": \"user\", \"content\": user_input})    \n",
    "    response = agent.invoke({\"messages\": messages})\n",
    "    ai_message = response[\"messages\"][-1].content\n",
    "    print(f\"Assistant: {ai_message}\")\n",
    "    messages.append(response[\"messages\"][-1])"
   ]
  },
  {
   "cell_type": "code",
   "execution_count": 27,
   "metadata": {},
   "outputs": [
    {
     "data": {
      "image/png": "[encoded data removed]",
      "text/plain": [
       "<IPython.core.display.Image object>"
      ]
     },
     "metadata": {},
     "output_type": "display_data"
    }
   ],
   "source": [
    "from IPython.display import Image, display\n",
    "from langchain_core.runnables.graph import CurveStyle, MermaidDrawMethod, NodeStyles\n",
    "\n",
    "display(\n",
    "    Image(\n",
    "        agent.get_graph().draw_mermaid_png(\n",
    "            draw_method=MermaidDrawMethod.API,\n",
    "        )\n",
    "    )\n",
    ")"
   ]
  },
  {
   "cell_type": "markdown",
   "metadata": {},
   "source": [
    "# MCP"
   ]
  },
  {
   "cell_type": "markdown",
   "metadata": {},
   "source": [
    "```mermaid\n",
    "graph TB\n",
    "    subgraph YourComputer[\" \"]\n",
    "        subgraph AIbasedApp[\"AI based App<br>(Host)\"]\n",
    "            MCPClient[\"MCP Client\"]\n",
    "        end\n",
    "        ServerA[\"MCP Server A<br>[actions]\"]\n",
    "        ServerB[\"MCP Server B<br>[actions]\"]\n",
    "        ServerC[\"MCP Server C<br>[actions]\"]\n",
    "        DSA[(Local Data Source A)]\n",
    "        DSB((Data Source B))\n",
    "        RemoteC{Remote Service C}\n",
    "        \n",
    "        MCPClient <--> |MCP Protocol| ServerA\n",
    "        MCPClient <--> |MCP Protocol| ServerB\n",
    "        MCPClient <--> |MCP Protocol| ServerC\n",
    "        \n",
    "        ServerA <--> |Data Access| DSA\n",
    "        ServerB <--> |Data Access| DSB\n",
    "        ServerC <--> |Web APIs| RemoteC\n",
    "    end\n",
    "    \n",
    "    style MCPClient fill:#333,stroke:#fff,color:#fff\n",
    "    style ServerA fill:#333,stroke:#fff,color:#fff\n",
    "    style ServerB fill:#333,stroke:#fff,color:#fff\n",
    "    style ServerC fill:#333,stroke:#fff,color:#fff\n",
    "    style DSA fill:none,stroke:#fff,color:#fff\n",
    "    style DSB fill:none,stroke:#fff,color:#fff\n",
    "    style RemoteC fill:none,stroke:#fff,color:#fff\n",
    "    style AIbasedApp fill:#444,stroke:#fff,color:#fff\n",
    "    style YourComputer fill:#555,stroke:none,color:#fff\n",
    "``` \n"
   ]
  }
 ],
 "metadata": {
  "kernelspec": {
   "display_name": "Python 3 (ipykernel)",
   "language": "python",
   "name": "python3"
  },
  "language_info": {
   "codemirror_mode": {
    "name": "ipython",
    "version": 3
   },
   "file_extension": ".py",
   "mimetype": "text/x-python",
   "name": "python",
   "nbconvert_exporter": "python",
   "pygments_lexer": "ipython3",
   "version": "3.11.10"
  }
 },
 "nbformat": 4,
 "nbformat_minor": 4
}
